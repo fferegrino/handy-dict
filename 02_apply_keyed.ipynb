{
 "cells": [
  {
   "cell_type": "code",
   "execution_count": null,
   "metadata": {},
   "outputs": [],
   "source": [
    "# default_exp apply_keyed"
   ]
  },
  {
   "cell_type": "code",
   "execution_count": null,
   "metadata": {},
   "outputs": [],
   "source": [
    "# export\n",
    "from copy import deepcopy\n",
    "from handy_dict.exceptions import ApplyKeyedException"
   ]
  },
  {
   "cell_type": "code",
   "execution_count": null,
   "metadata": {},
   "outputs": [],
   "source": [
    "# exports\n",
    "def apply_keyed(dictionary, keys, action, ignore_non_existing=True):\n",
    "    dictionary_copy = deepcopy(dictionary)\n",
    "    followed_path = []\n",
    "\n",
    "    def apply_keyed_inplace(data, keys, path):\n",
    "        if keys[0] not in data and ignore_non_existing:\n",
    "            return\n",
    "\n",
    "        path.append(keys[0])\n",
    "        if len(keys) == 1:\n",
    "            try:\n",
    "                data[keys[0]] = action(data[keys[0]])\n",
    "            except Exception as excp:\n",
    "                raise ApplyKeyedException(\n",
    "                    path=path, value=data.get(keys[0])\n",
    "                ) from excp\n",
    "        else:\n",
    "            if isinstance(data[keys[0]], list):\n",
    "                for idx, obj in enumerate(data[keys[0]]):\n",
    "                    path.append(idx)\n",
    "                    apply_keyed_inplace(obj, keys[1:], path)\n",
    "                    path.pop()\n",
    "            else:\n",
    "                path.append(keys[0])\n",
    "                apply_keyed_inplace(data[keys[0]], keys[1:], path)\n",
    "        path.pop()\n",
    "\n",
    "    apply_keyed_inplace(dictionary_copy, keys, followed_path)\n",
    "    return dictionary_copy"
   ]
  },
  {
   "cell_type": "code",
   "execution_count": null,
   "metadata": {},
   "outputs": [],
   "source": [
    "def duplicate(text):\n",
    "    return text + text"
   ]
  },
  {
   "cell_type": "code",
   "execution_count": null,
   "metadata": {},
   "outputs": [],
   "source": [
    "test_dict = {'A': {'B': 'C'}}\n",
    "expected = {'A': {'B': 'CC'}}\n",
    "actual = apply_keyed(test_dict, [\"A\", \"B\"], duplicate)\n",
    "assert actual == expected"
   ]
  },
  {
   "cell_type": "code",
   "execution_count": null,
   "metadata": {},
   "outputs": [],
   "source": [
    "test_dict = {'A': [{'B': 'C'}]}\n",
    "expected = {'A': [{'B': 'CC'}]}\n",
    "actual = apply_keyed(test_dict, [\"A\", \"B\"], duplicate)\n",
    "assert actual == expected"
   ]
  },
  {
   "cell_type": "code",
   "execution_count": null,
   "metadata": {},
   "outputs": [],
   "source": []
  }
 ],
 "metadata": {
  "kernelspec": {
   "display_name": "Python 3",
   "language": "python",
   "name": "python3"
  }
 },
 "nbformat": 4,
 "nbformat_minor": 4
}
