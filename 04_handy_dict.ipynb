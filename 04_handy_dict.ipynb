{
 "cells": [
  {
   "cell_type": "code",
   "execution_count": null,
   "metadata": {},
   "outputs": [],
   "source": [
    "# default_exp core"
   ]
  },
  {
   "cell_type": "markdown",
   "metadata": {},
   "source": [
    "# HandyDict\n",
    "\n",
    "> A class that acts as a wrapper for a `dict` that also implements the functions `apply_keyed` and `return_keyed`."
   ]
  },
  {
   "cell_type": "code",
   "execution_count": null,
   "metadata": {},
   "outputs": [],
   "source": [
    "# exporti\n",
    "from collections import UserDict"
   ]
  },
  {
   "cell_type": "code",
   "execution_count": null,
   "metadata": {},
   "outputs": [],
   "source": [
    "from handy_dict.apply_keyed import apply_keyed\n",
    "from handy_dict.return_keyed import return_keyed"
   ]
  },
  {
   "cell_type": "code",
   "execution_count": null,
   "metadata": {},
   "outputs": [],
   "source": [
    "# exports\n",
    "class HandyDict(UserDict):\n",
    "    \n",
    "    def __getitem__(self, key):\n",
    "        if isinstance(key, list):\n",
    "            return return_keyed(self.data, key)\n",
    "        else:\n",
    "            return self.data[key]\n",
    "        \n",
    "    def apply(self, keys, action, ignore_non_existing=True):\n",
    "        return HandyDict(apply_keyed(self.data, keys, action, ignore_non_existing))"
   ]
  },
  {
   "cell_type": "code",
   "execution_count": null,
   "metadata": {},
   "outputs": [],
   "source": [
    "test_dict = {\n",
    "    'A': {\n",
    "        'B': [\n",
    "            {'C': 1},\n",
    "            {'C': 2},\n",
    "            {'C': 3},\n",
    "        ]\n",
    "    }\n",
    "}\n",
    "\n",
    "handy_dict = HandyDict(test_dict)"
   ]
  },
  {
   "cell_type": "code",
   "execution_count": null,
   "metadata": {},
   "outputs": [],
   "source": [
    "assert handy_dict[[\"A\",\"B\",\"C\"]] == [1, 2, 3]"
   ]
  },
  {
   "cell_type": "code",
   "execution_count": null,
   "metadata": {},
   "outputs": [],
   "source": [
    "assert handy_dict[\"A\"][\"B\"] == [{'C': 1}, {'C': 2}, {'C': 3}]"
   ]
  },
  {
   "cell_type": "code",
   "execution_count": null,
   "metadata": {},
   "outputs": [],
   "source": [
    "def add_one(value):\n",
    "    return value + 1"
   ]
  },
  {
   "cell_type": "code",
   "execution_count": null,
   "metadata": {},
   "outputs": [],
   "source": [
    "result_dict = handy_dict.apply([\"A\",\"B\",\"C\"], add_one)\n",
    "assert result_dict[[\"A\",\"B\",\"C\"]] == [2, 3, 4]"
   ]
  },
  {
   "cell_type": "code",
   "execution_count": null,
   "metadata": {},
   "outputs": [],
   "source": []
  }
 ],
 "metadata": {
  "kernelspec": {
   "display_name": "Python 3",
   "language": "python",
   "name": "python3"
  }
 },
 "nbformat": 4,
 "nbformat_minor": 4
}
