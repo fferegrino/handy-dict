{
 "cells": [
  {
   "cell_type": "code",
   "execution_count": null,
   "metadata": {},
   "outputs": [],
   "source": [
    "# default_exp core"
   ]
  },
  {
   "cell_type": "markdown",
   "metadata": {},
   "source": [
    "# HandyDict\n",
    "\n",
    "> A class that acts as a wrapper for a `dict` that also implements the functions `apply_keyed`, `return_keyed` and `multi_get`."
   ]
  },
  {
   "cell_type": "code",
   "execution_count": null,
   "metadata": {},
   "outputs": [],
   "source": [
    "# exporti\n",
    "from collections import UserDict"
   ]
  },
  {
   "cell_type": "code",
   "execution_count": null,
   "metadata": {},
   "outputs": [],
   "source": [
    "# exporti\n",
    "from handy_dict.apply_keyed import apply_keyed\n",
    "from handy_dict.return_keyed import return_keyed\n",
    "from handy_dict.multi_get import multi_get"
   ]
  },
  {
   "cell_type": "code",
   "execution_count": null,
   "metadata": {},
   "outputs": [],
   "source": [
    "# exports\n",
    "class HandyDict(UserDict):\n",
    "    \n",
    "    def __getitem__(self, key):\n",
    "        if isinstance(key, list):\n",
    "            return return_keyed(self.data, key)\n",
    "        else:\n",
    "            return self.data[key]\n",
    "        \n",
    "    def apply(self, keys, action, ignore_non_existing=True):\n",
    "        return HandyDict(apply_keyed(self.data, keys, action, ignore_non_existing))\n",
    "    \n",
    "    def multi_get(self, keys, default=None):\n",
    "        if not isinstance(keys, list):\n",
    "            keys = [keys]\n",
    "        return multi_get(self.data, keys, default=default)"
   ]
  },
  {
   "cell_type": "markdown",
   "metadata": {},
   "source": [
    "## Tests  \n",
    "\n",
    "Create a simple test dictionary:"
   ]
  },
  {
   "cell_type": "code",
   "execution_count": null,
   "metadata": {},
   "outputs": [],
   "source": [
    "test_dict = {\n",
    "    'A': {\n",
    "        'B': [\n",
    "            {'C': 1},\n",
    "            {'C': 2},\n",
    "            {'C': 3},\n",
    "        ]\n",
    "    }\n",
    "}\n",
    "\n",
    "handy_dict = HandyDict(test_dict)"
   ]
  },
  {
   "cell_type": "markdown",
   "metadata": {},
   "source": [
    "### Test `return_keyed`  \n",
    "\n",
    "Test getting the key \"C\" from the deepest level of the dictionary, this should return the values `1`, `2` and `3`."
   ]
  },
  {
   "cell_type": "code",
   "execution_count": null,
   "metadata": {},
   "outputs": [],
   "source": [
    "assert handy_dict[[\"A\",\"B\",\"C\"]] == [1, 2, 3]"
   ]
  },
  {
   "cell_type": "markdown",
   "metadata": {},
   "source": [
    "Test that we can still access the values like a normal dictionary."
   ]
  },
  {
   "cell_type": "code",
   "execution_count": null,
   "metadata": {},
   "outputs": [],
   "source": [
    "assert handy_dict[\"A\"][\"B\"] == [{'C': 1}, {'C': 2}, {'C': 3}]"
   ]
  },
  {
   "cell_type": "markdown",
   "metadata": {},
   "source": [
    "### Test `apply_keyed`  \n",
    "\n",
    "Test that apply keyed works. \n",
    "\n",
    "First, create a simple function that adds a number to the passed in value."
   ]
  },
  {
   "cell_type": "code",
   "execution_count": null,
   "metadata": {},
   "outputs": [],
   "source": [
    "def add_one(value):\n",
    "    return value + 1"
   ]
  },
  {
   "cell_type": "markdown",
   "metadata": {},
   "source": [
    "Call the `apply` method to be applied to the deepest level, as specified by the key passed in `[\"A\",\"B\",\"C\"]`, the result should be `2`, `3` and `4`."
   ]
  },
  {
   "cell_type": "code",
   "execution_count": null,
   "metadata": {},
   "outputs": [],
   "source": [
    "result_dict = handy_dict.apply([\"A\",\"B\",\"C\"], add_one)\n",
    "assert result_dict[[\"A\",\"B\",\"C\"]] == [2, 3, 4]"
   ]
  },
  {
   "cell_type": "markdown",
   "metadata": {},
   "source": [
    "### Test `multi_get`  \n",
    " \n",
    "Several tests for `multi_get`"
   ]
  },
  {
   "cell_type": "code",
   "execution_count": null,
   "metadata": {},
   "outputs": [],
   "source": [
    "assert handy_dict.multi_get(\"A\") == ('A', {'B': [{'C': 1}, {'C': 2}, {'C': 3}]})\n",
    "assert handy_dict.multi_get([\"B\", \"A\"]) == ('A', {'B': [{'C': 1}, {'C': 2}, {'C': 3}]})\n",
    "assert handy_dict.multi_get([\"B\"], default=\"ABC\") == (None, \"ABC\")"
   ]
  },
  {
   "cell_type": "code",
   "execution_count": null,
   "metadata": {},
   "outputs": [],
   "source": []
  }
 ],
 "metadata": {
  "kernelspec": {
   "display_name": "Python 3",
   "language": "python",
   "name": "python3"
  }
 },
 "nbformat": 4,
 "nbformat_minor": 4
}
