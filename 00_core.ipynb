{
 "cells": [
  {
   "cell_type": "code",
   "execution_count": null,
   "metadata": {},
   "outputs": [],
   "source": [
    "# default_exp core"
   ]
  },
  {
   "cell_type": "markdown",
   "metadata": {},
   "source": [
    "# handy-dict\n",
    "\n",
    "> API details."
   ]
  },
  {
   "cell_type": "code",
   "execution_count": null,
   "metadata": {},
   "outputs": [],
   "source": [
    "#hide\n",
    "from nbdev.showdoc import *"
   ]
  },
  {
   "cell_type": "code",
   "execution_count": null,
   "metadata": {},
   "outputs": [],
   "source": [
    "# export\n",
    "from copy import deepcopy"
   ]
  },
  {
   "cell_type": "code",
   "execution_count": null,
   "metadata": {},
   "outputs": [],
   "source": [
    "# export\n",
    "class ApplyKeyedException(Exception):\n",
    "    \n",
    "    def __init__(self, *args, path, value):\n",
    "        self.path = path\n",
    "        self.value = value"
   ]
  },
  {
   "cell_type": "code",
   "execution_count": null,
   "metadata": {},
   "outputs": [],
   "source": [
    "# export\n",
    "def apply_keyed(dictionary, keys, action, ignore_non_existing=True):\n",
    "    dictionary_copy = deepcopy(dictionary)\n",
    "    followed_path = []\n",
    "\n",
    "    def apply_keyed_inplace(data, keys, path):\n",
    "        if keys[0] not in data and ignore_non_existing:\n",
    "            return\n",
    "\n",
    "        if len(keys) == 1:\n",
    "            try:\n",
    "                data[keys[0]] = action(data[keys[0]])\n",
    "            except Exception as excp:\n",
    "                path.append(keys[0])\n",
    "                raise ApplyKeyedException(\n",
    "                    path=path, value=data.get(keys[0])\n",
    "                ) from excp\n",
    "        else:\n",
    "            if isinstance(data[keys[0]], list):\n",
    "                for idx, obj in enumerate(data[keys[0]]):\n",
    "                    path.append(f\"{keys[0]}[{idx}]\")\n",
    "                    apply_keyed_inplace(obj, keys[1:], path)\n",
    "                    path.pop()\n",
    "            else:\n",
    "                path.append(keys[0])\n",
    "                apply_keyed_inplace(data[keys[0]], keys[1:], path)\n",
    "                path.pop()\n",
    "\n",
    "    apply_keyed_inplace(dictionary_copy, keys, followed_path)\n",
    "    return dictionary_copy"
   ]
  },
  {
   "cell_type": "code",
   "execution_count": null,
   "metadata": {},
   "outputs": [],
   "source": [
    "def duplicate(text):\n",
    "    return text + text"
   ]
  },
  {
   "cell_type": "code",
   "execution_count": null,
   "metadata": {},
   "outputs": [],
   "source": [
    "test_dict = {'A': {'B': 'C'}}\n",
    "expected = {'A': {'B': 'CC'}}\n",
    "actual = apply_keyed(test_dict, [\"A\", \"B\"], duplicate)\n",
    "assert actual == expected"
   ]
  },
  {
   "cell_type": "code",
   "execution_count": null,
   "metadata": {},
   "outputs": [],
   "source": [
    "test_dict = {'A': [{'B': 'C'}]}\n",
    "expected = {'A': [{'B': 'CC'}]}\n",
    "actual = apply_keyed(test_dict, [\"A\", \"B\", ], duplicate)\n",
    "assert actual == expected"
   ]
  },
  {
   "cell_type": "code",
   "execution_count": null,
   "metadata": {},
   "outputs": [],
   "source": [
    "# export\n",
    "def return_keyed(dictionary, keys, ignore_non_existing=True):\n",
    "    return_values = []\n",
    "\n",
    "    def apply_keyed_inplace(data, keys, return_values):\n",
    "        if keys[0] not in data and ignore_non_existing:\n",
    "            return\n",
    "\n",
    "        if len(keys) == 1:\n",
    "            return_values.append(data[keys[0]])\n",
    "        else:\n",
    "            if isinstance(data[keys[0]], list):\n",
    "                for idx, obj in enumerate(data[keys[0]]):\n",
    "                    apply_keyed_inplace(obj, keys[1:], return_values)\n",
    "            else:\n",
    "                apply_keyed_inplace(data[keys[0]], keys[1:], return_values)\n",
    "\n",
    "    apply_keyed_inplace(dictionary, keys, return_values)\n",
    "    return return_values"
   ]
  },
  {
   "cell_type": "code",
   "execution_count": null,
   "metadata": {},
   "outputs": [],
   "source": [
    "test_dict = {'A': [{'B': 'C'}, {'B':'D'}]}\n",
    "expected = [\"C\", \"D\"]\n",
    "actual = return_keyed(test_dict, [\"A\", \"B\"])\n",
    "assert expected == actual"
   ]
  },
  {
   "cell_type": "code",
   "execution_count": null,
   "metadata": {},
   "outputs": [],
   "source": []
  }
 ],
 "metadata": {
  "kernelspec": {
   "display_name": "Python 3",
   "language": "python",
   "name": "python3"
  }
 },
 "nbformat": 4,
 "nbformat_minor": 2
}
