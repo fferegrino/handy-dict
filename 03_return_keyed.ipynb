{
 "cells": [
  {
   "cell_type": "code",
   "execution_count": null,
   "metadata": {},
   "outputs": [],
   "source": [
    "# default_exp return_keyed"
   ]
  },
  {
   "cell_type": "code",
   "execution_count": null,
   "metadata": {},
   "outputs": [],
   "source": [
    "# exports\n",
    "from handy_dict.exceptions import KeyedException"
   ]
  },
  {
   "cell_type": "code",
   "execution_count": null,
   "metadata": {},
   "outputs": [],
   "source": [
    "# exports\n",
    "def return_keyed(dictionary, keys, ignore_non_existing=True):\n",
    "    return_values = []\n",
    "    path = []\n",
    "\n",
    "    def return_keyed_inner(data, keys, return_values):\n",
    "        if keys[0] not in data and ignore_non_existing:\n",
    "            return\n",
    "\n",
    "        path.append(keys[0])\n",
    "        if len(keys) == 1:\n",
    "            \n",
    "            try:\n",
    "                return_values.append(data[keys[0]])\n",
    "            except KeyError:\n",
    "                raise KeyedException(\"the \",path=path)\n",
    "                \n",
    "        else:\n",
    "            if isinstance(data[keys[0]], list):\n",
    "                for idx, obj in enumerate(data[keys[0]]):\n",
    "                    path.append(idx)\n",
    "                    return_keyed_inner(obj, keys[1:], return_values)\n",
    "                    path.pop()\n",
    "            else:\n",
    "                return_keyed_inner(data[keys[0]], keys[1:], return_values)\n",
    "        path.pop()\n",
    "\n",
    "    return_keyed_inner(dictionary, keys, return_values)\n",
    "    return return_values"
   ]
  },
  {
   "cell_type": "code",
   "execution_count": null,
   "metadata": {},
   "outputs": [],
   "source": [
    "test_dict = {'A': [{'B': 'C'}, {'B':'D'}]}\n",
    "expected = [\"C\", \"D\"]\n",
    "actual = return_keyed(test_dict, [\"A\", \"B\"])\n",
    "assert expected == actual"
   ]
  },
  {
   "cell_type": "code",
   "execution_count": null,
   "metadata": {},
   "outputs": [],
   "source": [
    "try:\n",
    "    test_dict = {'A': [{'B': 'C'}, {'B':'D'}]}\n",
    "    expected = [\"C\", \"D\"]\n",
    "    actual = return_keyed(test_dict, [\"A\", \"X\"], ignore_non_existing=False)\n",
    "    assert False\n",
    "except KeyedException as excp:\n",
    "    assert excp.path == ['A', 0, 'X']"
   ]
  },
  {
   "cell_type": "code",
   "execution_count": null,
   "metadata": {},
   "outputs": [],
   "source": []
  }
 ],
 "metadata": {
  "kernelspec": {
   "display_name": "Python 3",
   "language": "python",
   "name": "python3"
  }
 },
 "nbformat": 4,
 "nbformat_minor": 4
}
