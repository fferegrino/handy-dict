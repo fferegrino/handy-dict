{
 "cells": [
  {
   "cell_type": "markdown",
   "metadata": {},
   "source": [
    "# Handy Dict\n",
    "\n",
    "> Summary description here."
   ]
  },
  {
   "cell_type": "markdown",
   "metadata": {},
   "source": [
    "This file will become your README and also the index of your documentation."
   ]
  },
  {
   "cell_type": "markdown",
   "metadata": {},
   "source": [
    "## Install"
   ]
  },
  {
   "cell_type": "markdown",
   "metadata": {},
   "source": [
    "`pip install handy-dict`"
   ]
  },
  {
   "cell_type": "markdown",
   "metadata": {},
   "source": [
    "## How to use"
   ]
  },
  {
   "cell_type": "markdown",
   "metadata": {},
   "source": [
    "### Let's start with a dictionary"
   ]
  },
  {
   "cell_type": "code",
   "execution_count": null,
   "metadata": {},
   "outputs": [],
   "source": [
    "pikachu = {\n",
    "  \"name\": \"pikachu\",\n",
    "  \"moves\": [\n",
    "    {\n",
    "      \"move\": {\n",
    "        \"name\": \"mega-punch\",\n",
    "        \"url\": \"https://pokeapi.co/api/v2/move/5/\"\n",
    "      }\n",
    "    },\n",
    "    {\n",
    "      \"move\": {\n",
    "        \"name\": \"pay-day\",\n",
    "        \"url\": \"https://pokeapi.co/api/v2/move/6/\"\n",
    "      }\n",
    "    },\n",
    "    {\n",
    "      \"move\": {\n",
    "        \"name\": \"thunder-punch\",\n",
    "        \"url\": \"https://pokeapi.co/api/v2/move/9/\"\n",
    "      }\n",
    "    }\n",
    "  ],\n",
    "  \"stats\": [\n",
    "    {\n",
    "      \"base_stat\": 90,\n",
    "      \"effort\": 2,\n",
    "      \"stat\": {\n",
    "        \"name\": \"speed\",\n",
    "        \"url\": \"https://pokeapi.co/api/v2/stat/6/\"\n",
    "      }\n",
    "    },\n",
    "    {\n",
    "      \"base_stat\": 50,\n",
    "      \"effort\": 0,\n",
    "      \"stat\": {\n",
    "        \"name\": \"special-defense\",\n",
    "        \"url\": \"https://pokeapi.co/api/v2/stat/5/\"\n",
    "      }\n",
    "    }\n",
    "  ]\n",
    "}"
   ]
  },
  {
   "cell_type": "markdown",
   "metadata": {},
   "source": [
    "With *handy-dict* you can apply a function to the keys inside a dictionary, say you want to take `name` out of `stat`,  go from something like this:\n",
    "\n",
    "```json\n",
    "{\n",
    "  \"base_stat\": 50,\n",
    "  \"effort\": 0,\n",
    "  \"stat\": {\n",
    "    \"name\": \"special-defense\",\n",
    "    \"url\": \"https://pokeapi.co/api/v2/stat/5/\"\n",
    "  }\n",
    "}\n",
    "```\n",
    "\n",
    "to this:\n",
    "\n",
    "```json\n",
    "{\n",
    "  \"base_stat\": 50,\n",
    "  \"name\": \"special-defense\"\n",
    "}\n",
    "```"
   ]
  },
  {
   "cell_type": "code",
   "execution_count": null,
   "metadata": {},
   "outputs": [],
   "source": [
    "from handy_dict import apply_keyed"
   ]
  },
  {
   "cell_type": "code",
   "execution_count": null,
   "metadata": {},
   "outputs": [],
   "source": [
    "def transform_stat(stat_array):\n",
    "    return [{\n",
    "        \"base_stat\": stat[\"base_stat\"],\n",
    "        \"name\": stat[\"stat\"][\"name\"]\n",
    "    } for stat in stat_array]"
   ]
  },
  {
   "cell_type": "code",
   "execution_count": null,
   "metadata": {},
   "outputs": [
    {
     "data": {
      "text/plain": [
       "[{'base_stat': 90, 'name': 'speed'},\n",
       " {'base_stat': 50, 'name': 'special-defense'},\n",
       " {'base_stat': 50, 'name': 'special-attack'},\n",
       " {'base_stat': 40, 'name': 'defense'}]"
      ]
     },
     "execution_count": null,
     "metadata": {},
     "output_type": "execute_result"
    }
   ],
   "source": [
    "modified_pikachu = apply_keyed(pikachu,[\"stats\"], transform_stat)\n",
    "modified_pikachu[\"stats\"]"
   ]
  },
  {
   "cell_type": "code",
   "execution_count": null,
   "metadata": {},
   "outputs": [],
   "source": []
  }
 ],
 "metadata": {
  "kernelspec": {
   "display_name": "Python 3",
   "language": "python",
   "name": "python3"
  }
 },
 "nbformat": 4,
 "nbformat_minor": 2
}
