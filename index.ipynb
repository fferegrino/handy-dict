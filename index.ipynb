{
 "cells": [
  {
   "cell_type": "markdown",
   "metadata": {},
   "source": [
    "# Handy Dict\n",
    "\n",
    "> A library with some handy utils to deal with dictionaries that contain arrays"
   ]
  },
  {
   "cell_type": "markdown",
   "metadata": {},
   "source": [
    "This file will become your README and also the index of your documentation."
   ]
  },
  {
   "cell_type": "markdown",
   "metadata": {},
   "source": [
    "## Install"
   ]
  },
  {
   "cell_type": "markdown",
   "metadata": {},
   "source": [
    "`pip install handy-dict`"
   ]
  },
  {
   "cell_type": "markdown",
   "metadata": {},
   "source": [
    "## How to use"
   ]
  },
  {
   "cell_type": "markdown",
   "metadata": {},
   "source": [
    "### Let's start with a dictionary"
   ]
  },
  {
   "cell_type": "code",
   "execution_count": null,
   "metadata": {},
   "outputs": [],
   "source": [
    "pikachu = {\n",
    "  \"name\": \"pikachu\",\n",
    "  \"moves\": [\n",
    "    {\n",
    "      \"move\": {\n",
    "        \"name\": \"mega-punch\",\n",
    "        \"url\": \"https://pokeapi.co/api/v2/move/5/\"\n",
    "      }\n",
    "    },\n",
    "    {\n",
    "      \"move\": {\n",
    "        \"name\": \"pay-day\",\n",
    "        \"url\": \"https://pokeapi.co/api/v2/move/6/\"\n",
    "      }\n",
    "    },\n",
    "    {\n",
    "      \"move\": {\n",
    "        \"name\": \"thunder-punch\",\n",
    "        \"url\": \"https://pokeapi.co/api/v2/move/9/\"\n",
    "      }\n",
    "    }\n",
    "  ],\n",
    "  \"stats\": [\n",
    "    {\n",
    "      \"base_stat\": 90,\n",
    "      \"effort\": 2,\n",
    "      \"stat\": {\n",
    "        \"name\": \"speed\",\n",
    "        \"url\": \"https://pokeapi.co/api/v2/stat/6/\"\n",
    "      }\n",
    "    },\n",
    "    {\n",
    "      \"base_stat\": 50,\n",
    "      \"effort\": 0,\n",
    "      \"stat\": {\n",
    "        \"name\": \"special-defense\",\n",
    "        \"url\": \"https://pokeapi.co/api/v2/stat/5/\"\n",
    "      }\n",
    "    }\n",
    "  ]\n",
    "}"
   ]
  },
  {
   "cell_type": "markdown",
   "metadata": {},
   "source": [
    "### `apply_keyed`"
   ]
  },
  {
   "cell_type": "code",
   "execution_count": null,
   "metadata": {},
   "outputs": [],
   "source": [
    "from handy_dict import apply_keyed"
   ]
  },
  {
   "cell_type": "markdown",
   "metadata": {},
   "source": [
    "With *handy-dict* you can apply a function to the keys inside a dictionary, say you want to take `name` out of `stat`,  go from something like this:\n",
    "\n",
    "```json\n",
    "{\n",
    "  \"base_stat\": 50,\n",
    "  \"effort\": 0,\n",
    "  \"stat\": {\n",
    "    \"name\": \"special-defense\",\n",
    "    \"url\": \"https://pokeapi.co/api/v2/stat/5/\"\n",
    "  }\n",
    "}\n",
    "```\n",
    "\n",
    "to this:\n",
    "\n",
    "```json\n",
    "{\n",
    "  \"base_stat\": 50,\n",
    "  \"name\": \"special-defense\"\n",
    "}\n",
    "```\n",
    "\n",
    "The function `transform_stat` is just a little helper that will transform the `stats` array in our `pikachu` dictionary and return a new array, that will replace the `stats` in a copy of the original dict:"
   ]
  },
  {
   "cell_type": "code",
   "execution_count": null,
   "metadata": {},
   "outputs": [],
   "source": [
    "def transform_stat(stat_array):\n",
    "    return {\n",
    "        stat[\"stat\"][\"name\"]: stat[\"base_stat\"] \n",
    "        for stat in stat_array \n",
    "    } "
   ]
  },
  {
   "cell_type": "code",
   "execution_count": null,
   "metadata": {},
   "outputs": [
    {
     "data": {
      "text/plain": [
       "{'speed': 90, 'special-defense': 50}"
      ]
     },
     "execution_count": null,
     "metadata": {},
     "output_type": "execute_result"
    }
   ],
   "source": [
    "modified_pikachu = apply_keyed(pikachu,[\"stats\"], transform_stat)\n",
    "modified_pikachu[\"stats\"]"
   ]
  },
  {
   "cell_type": "markdown",
   "metadata": {},
   "source": [
    "### `return_keyed`"
   ]
  },
  {
   "cell_type": "code",
   "execution_count": null,
   "metadata": {},
   "outputs": [],
   "source": [
    "from handy_dict import return_keyed"
   ]
  },
  {
   "cell_type": "markdown",
   "metadata": {},
   "source": [
    "*handy-dict* also makes it easy to return multiple values from a dictionary, iterating through keys and arrays:"
   ]
  },
  {
   "cell_type": "code",
   "execution_count": null,
   "metadata": {},
   "outputs": [
    {
     "data": {
      "text/plain": [
       "['mega-punch', 'pay-day', 'thunder-punch']"
      ]
     },
     "execution_count": null,
     "metadata": {},
     "output_type": "execute_result"
    }
   ],
   "source": [
    "return_keyed(pikachu, [\"moves\",\"move\",\"name\"])"
   ]
  },
  {
   "cell_type": "code",
   "execution_count": null,
   "metadata": {},
   "outputs": [],
   "source": []
  }
 ],
 "metadata": {
  "kernelspec": {
   "display_name": "Python 3",
   "language": "python",
   "name": "python3"
  }
 },
 "nbformat": 4,
 "nbformat_minor": 2
}
