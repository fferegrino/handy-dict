{
 "cells": [
  {
   "cell_type": "code",
   "execution_count": null,
   "metadata": {},
   "outputs": [],
   "source": [
    "# default_exp exceptions"
   ]
  },
  {
   "cell_type": "code",
   "execution_count": null,
   "metadata": {},
   "outputs": [],
   "source": [
    "# exports\n",
    "class KeyedException(Exception):\n",
    "    \n",
    "    def __init__(self, *args, path):\n",
    "        super().__init__(*args)\n",
    "        self.path = path\n",
    "\n",
    "class ApplyKeyedException(KeyedException):\n",
    "    \n",
    "    def __init__(self, *args, path, value):\n",
    "        super().__init__(*args, path=path)\n",
    "        self.value = value"
   ]
  }
 ],
 "metadata": {
  "kernelspec": {
   "display_name": "Python 3",
   "language": "python",
   "name": "python3"
  }
 },
 "nbformat": 4,
 "nbformat_minor": 4
}
